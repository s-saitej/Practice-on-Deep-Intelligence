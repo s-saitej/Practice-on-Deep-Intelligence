{
 "cells": [
  {
   "cell_type": "markdown",
   "metadata": {},
   "source": [
    "# Module 1\n",
    "\n",
    "## Keras"
   ]
  },
  {
   "cell_type": "markdown",
   "metadata": {},
   "source": [
    "What is keras? Why should we use it?\n",
    "\n",
    "Keras is deep learning framework written in python.\n",
    "\n",
    "Documentation : keras.io\n",
    "\n",
    "Keras is used extensively because it has an active community.\n",
    "\n",
    "It is a high level API\n",
    "\n",
    "It has a fast prototyping.\n",
    "\n",
    "It is bulid by modular building blocks\n",
    "\n",
    "It can be easily extended.\n",
    "\n",
    "It has prebuild deep learning models and also preprocessing API's.\n",
    "\n",
    "It can be used in TensorFlow, Microsoft CNTK and theano.\n",
    "\n",
    "It easily swaps backends and runs on CPU's and GPU's.\n",
    "\n"
   ]
  },
  {
   "cell_type": "markdown",
   "metadata": {},
   "source": [
    "## Sequential Models in Keras"
   ]
  },
  {
   "cell_type": "markdown",
   "metadata": {},
   "source": [
    "There are two types of models in Keras :\n",
    "\n",
    "Sequentail Models : keras.Seqential : Sequential Models\n",
    "\n",
    "Non-Sequential Models : keras.Models : Functional Models\n",
    "\n",
    "Core Abstraction of each model is bunch of layers.\n",
    "\n",
    "In each sequntial model layers we have input, output , input_shape and output_shape\n",
    "\n",
    "We can get weights of each layer by layer.get_weights()\n",
    "\n",
    "To set weights , layer.set_weights()\n",
    "\n",
    "To get configuration of layers, we use layer.get_config()\n",
    "\n"
   ]
  },
  {
   "cell_type": "markdown",
   "metadata": {},
   "source": [
    "## Building a sequential model"
   ]
  },
  {
   "cell_type": "markdown",
   "metadata": {},
   "source": [
    "### Step 1: Instantiate Sequntial Model.\n",
    "### Step 2: Add layers to Sequential Model.\n",
    "### Step 3: Compile the model loss function, accuracy and an optimizer.\n",
    "### Step 4: Use data to fit into model.\n",
    "### Step 5: Evaluate model."
   ]
  },
  {
   "cell_type": "markdown",
   "metadata": {},
   "source": [
    "## Option 1: importing and defining a loss function.\n",
    "\n",
    "import   keras.losses import mean_squared_error\n",
    "\n",
    "model.compile(loss = 'mean_squared_error', optimizer = 'sgd') # Schotastic gradient descent"
   ]
  },
  {
   "cell_type": "markdown",
   "metadata": {},
   "source": [
    "## Option 2: Fitting a model\n",
    "\n",
    "model.fit(x_train, y_train, batch_size = 32, epochs = 10, validation_data = (x_val,y_val) )"
   ]
  },
  {
   "cell_type": "markdown",
   "metadata": {},
   "source": [
    "## Option 3: Evaluating the testing data\n",
    "\n",
    "evaluate(x_test, y_test, batch_size = 32)"
   ]
  },
  {
   "cell_type": "markdown",
   "metadata": {},
   "source": [
    "## Option 4: Prediction\n",
    "\n",
    "predict(x_test, batch_size = 32)"
   ]
  },
  {
   "cell_type": "markdown",
   "metadata": {},
   "source": [
    "# Module 2\n",
    "\n",
    "## Feed Forward Neural Networks With Keras\n",
    "\n",
    "Now we would use dense layers to implement neural networks\n",
    "\n",
    "from keras.layers import Dense\n",
    "\n",
    "Dense(units, # no. of output neurons\n",
    "\n",
    "      activation = None, # Activation function\n",
    "\n",
    "      use_bias = True, # To use bias\n",
    "      \n",
    "      kernel_initializer = 'glorot_uniform',\n",
    "      \n",
    "      bias_initializer = 'zeros' )"
   ]
  },
  {
   "cell_type": "code",
   "execution_count": 1,
   "metadata": {},
   "outputs": [
    {
     "name": "stderr",
     "output_type": "stream",
     "text": [
      "D:\\Installers\\Anaconda3\\lib\\site-packages\\h5py\\__init__.py:36: FutureWarning: Conversion of the second argument of issubdtype from `float` to `np.floating` is deprecated. In future, it will be treated as `np.float64 == np.dtype(float).type`.\n",
      "  from ._conv import register_converters as _register_converters\n",
      "Using TensorFlow backend.\n"
     ]
    }
   ],
   "source": [
    "from keras.datasets import mnist\n",
    "from keras.utils import to_categorical\n",
    "from keras.models import Sequential\n",
    "from keras.layers import Dense,Dropout"
   ]
  },
  {
   "cell_type": "code",
   "execution_count": 2,
   "metadata": {},
   "outputs": [],
   "source": [
    "batch_size = 128\n",
    "no_classes = 10\n",
    "epochs = 20"
   ]
  },
  {
   "cell_type": "code",
   "execution_count": null,
   "metadata": {},
   "outputs": [],
   "source": []
  }
 ],
 "metadata": {
  "kernelspec": {
   "display_name": "Python 3",
   "language": "python",
   "name": "python3"
  },
  "language_info": {
   "codemirror_mode": {
    "name": "ipython",
    "version": 3
   },
   "file_extension": ".py",
   "mimetype": "text/x-python",
   "name": "python",
   "nbconvert_exporter": "python",
   "pygments_lexer": "ipython3",
   "version": "3.6.5"
  }
 },
 "nbformat": 4,
 "nbformat_minor": 2
}
